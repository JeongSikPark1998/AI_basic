{
  "nbformat": 4,
  "nbformat_minor": 0,
  "metadata": {
    "colab": {
      "name": "[2]NeuralNetwork(Optimal_HiddenLayer).ipynb",
      "provenance": []
    },
    "kernelspec": {
      "name": "python3",
      "display_name": "Python 3"
    },
    "language_info": {
      "name": "python"
    },
    "accelerator": "GPU",
    "gpuClass": "standard"
  },
  "cells": [
    {
      "cell_type": "code",
      "execution_count": 1,
      "metadata": {
        "colab": {
          "base_uri": "https://localhost:8080/"
        },
        "id": "gN4UCSuXW1Sx",
        "outputId": "46404c4e-377c-47df-8643-a17f78094ed5"
      },
      "outputs": [
        {
          "output_type": "stream",
          "name": "stdout",
          "text": [
            "sklearn version 1.0.2\n",
            "python version 3.7.13 (default, Apr 24 2022, 01:04:09) \n",
            "[GCC 7.5.0]\n"
          ]
        }
      ],
      "source": [
        "import sklearn\n",
        "import sys\n",
        "from sklearn import datasets\n",
        "from sklearn.neural_network import MLPClassifier\n",
        "from sklearn.model_selection import train_test_split, validation_curve\n",
        "import numpy as np\n",
        "import matplotlib.pyplot as plt\n",
        "import time\n",
        "\n",
        "print(\"sklearn version\", sklearn.__version__)\n",
        "print(\"python version\", sys.version)"
      ]
    },
    {
      "cell_type": "code",
      "source": [
        "digit = datasets.load_digits()\n",
        "\n",
        "x_train, x_test, y_train, y_test = train_test_split(digit.data, digit.target, train_size=0.6)"
      ],
      "metadata": {
        "id": "Trkmmmo5Xg6p"
      },
      "execution_count": 2,
      "outputs": []
    },
    {
      "cell_type": "code",
      "source": [
        "#Duration of optimizing hyper parameter\n",
        "start = time.time()\n",
        "mlp=MLPClassifier(learning_rate_init = 0.001, batch_size=32, max_iter=50, solver='sgd')\n",
        "prange = range(20, 81, 10)\n",
        "train_score, test_score = validation_curve(mlp, x_train, y_train, param_name=\"hidden_layer_sizes\", param_range=prange, cv=5, scoring=\"accuracy\", n_jobs=4)\n",
        "end=time.time()\n",
        "print(\"하이퍼 매개변수 최적화에 걸린 시간은 \", end-start, \"초 입니다.\")"
      ],
      "metadata": {
        "colab": {
          "base_uri": "https://localhost:8080/"
        },
        "id": "WmfS1KZNXg8N",
        "outputId": "3cf9174c-5e32-4165-a09e-9f9cfce52546"
      },
      "execution_count": 3,
      "outputs": [
        {
          "output_type": "stream",
          "name": "stdout",
          "text": [
            "하이퍼 매개변수 최적화에 걸린 시간은  23.72511124610901 초 입니다.\n"
          ]
        }
      ]
    },
    {
      "cell_type": "code",
      "source": [
        "train_mean = np.mean(train_score, axis=1)\n",
        "train_std = np.std(train_score, axis=1)\n",
        "test_mean = np.mean(test_score, axis=1)\n",
        "test_std = np.std(test_score, axis=1)"
      ],
      "metadata": {
        "id": "P2CbjuwbXg9o"
      },
      "execution_count": 4,
      "outputs": []
    },
    {
      "cell_type": "code",
      "source": [
        "plt.plot(prange, train_mean, label=\"Train score\", color=\"r\")\n",
        "plt.plot(prange, test_mean, label=\"Test score\", color=\"b\")\n",
        "plt.fill_between(prange, train_mean-train_std, train_mean+train_std, alpha=0.2, color=\"r\")\n",
        "plt.fill_between(prange, test_mean-test_std, test_mean+test_std, alpha=0.2, color=\"b\")\n",
        "plt.legend(loc=\"best\")\n",
        "plt.title(\"Validation Curve with MLP\")\n",
        "plt.xlabel(\"Number of hidden nodes\");\n",
        "plt.ylabel(\"Accuracy\")\n",
        "plt.ylim(0.9, 1.01)\n",
        "plt.grid(axis='both')\n",
        "plt.show()\n",
        "\n",
        "#optimum number of hidden layer nodes\n",
        "best_number_nodes = prange[np.argmax(test_mean)]\n",
        "print(\"\\n최적의 은닉층의 노드 개수는 \", best_number_nodes, \"개 입니다.\\n\")"
      ],
      "metadata": {
        "colab": {
          "base_uri": "https://localhost:8080/",
          "height": 349
        },
        "id": "4b4P_s6rXg-8",
        "outputId": "1a924dc5-791a-4054-c763-8595a2c251df"
      },
      "execution_count": 5,
      "outputs": [
        {
          "output_type": "display_data",
          "data": {
            "text/plain": [
              "<Figure size 432x288 with 1 Axes>"
            ],
            "image/png": "[encoded data removed]"
          },
          "metadata": {
            "needs_background": "light"
          }
        },
        {
          "output_type": "stream",
          "name": "stdout",
          "text": [
            "\n",
            "최적의 은닉층의 노드 개수는  60 개 입니다.\n",
            "\n"
          ]
        }
      ]
    },
    {
      "cell_type": "code",
      "source": [
        "mlp_test = MLPClassifier(hidden_layer_sizes=(best_number_nodes), learning_rate_init=0.001, batch_size=32, max_iter=300, solver='sgd')\n",
        "mlp_test.fit(x_train, y_train)"
      ],
      "metadata": {
        "colab": {
          "base_uri": "https://localhost:8080/"
        },
        "id": "D_4tirH7XhAQ",
        "outputId": "b9303cc8-74bc-449e-ff5c-b5571c83b67f"
      },
      "execution_count": 6,
      "outputs": [
        {
          "output_type": "execute_result",
          "data": {
            "text/plain": [
              "MLPClassifier(batch_size=32, hidden_layer_sizes=60, max_iter=300, solver='sgd')"
            ]
          },
          "metadata": {},
          "execution_count": 6
        }
      ]
    },
    {
      "cell_type": "code",
      "source": [
        "res=mlp_test.predict(x_test)"
      ],
      "metadata": {
        "id": "AueJMcWrY2GB"
      },
      "execution_count": 7,
      "outputs": []
    },
    {
      "cell_type": "code",
      "source": [
        "conf=np.zeros((10,10))\n",
        "for i in range(len(res)):\n",
        "  conf[res[i]][y_test[i]]+=1\n",
        "print(conf)"
      ],
      "metadata": {
        "colab": {
          "base_uri": "https://localhost:8080/"
        },
        "id": "d-mxnAoWY2HX",
        "outputId": "be453cf7-83b7-4eef-bf0f-09a3fa628fd1"
      },
      "execution_count": 8,
      "outputs": [
        {
          "output_type": "stream",
          "name": "stdout",
          "text": [
            "[[79.  1.  0.  0.  1.  0.  0.  0.  0.  0.]\n",
            " [ 0. 65.  1.  0.  0.  0.  0.  0.  0.  0.]\n",
            " [ 0.  0. 76.  0.  0.  0.  0.  0.  1.  0.]\n",
            " [ 0.  0.  0. 70.  0.  0.  0.  0.  1.  0.]\n",
            " [ 0.  0.  0.  0. 72.  0.  0.  0.  1.  0.]\n",
            " [ 0.  0.  0.  2.  0. 65.  0.  0.  1.  2.]\n",
            " [ 0.  0.  0.  0.  0.  0. 73.  0.  0.  0.]\n",
            " [ 0.  0.  0.  0.  3.  0.  0. 67.  0.  1.]\n",
            " [ 0.  0.  0.  0.  0.  0.  0.  0. 60.  3.]\n",
            " [ 0.  0.  0.  0.  1.  0.  0.  0.  0. 73.]]\n"
          ]
        }
      ]
    },
    {
      "cell_type": "code",
      "source": [
        "no_correct = 0\n",
        "for i in range(10):\n",
        "  no_correct+=conf[i][i]\n",
        "accuracy=no_correct/len(res)\n",
        "print(\"테스트 집합에 대한 정확률은 \", accuracy*100, \"% 입니다.\") #accuracy"
      ],
      "metadata": {
        "colab": {
          "base_uri": "https://localhost:8080/"
        },
        "id": "bM-eMqoKY2Ix",
        "outputId": "85920655-1ae1-4a67-a074-4d1e62a705c2"
      },
      "execution_count": 9,
      "outputs": [
        {
          "output_type": "stream",
          "name": "stdout",
          "text": [
            "테스트 집합에 대한 정확률은  97.35744089012516 % 입니다.\n"
          ]
        }
      ]
    },
    {
      "cell_type": "code",
      "source": [
        "row = int(best_number_nodes/10)\n",
        "col = 10\n",
        "fig, axes = plt.subplots(row, col)\n",
        "\n",
        "vmin, vmax = mlp_test.coefs_[0].min(), mlp_test.coefs_[0].max()\n",
        "for coef, ax in zip(mlp_test.coefs_[0].T, axes.ravel()):\n",
        "  ax.matshow(coef.reshape(8,8), cmap=plt.cm.gray, vmin=0.5*vmin, vmax=0.5*vmax)\n",
        "  ax.set_xticks(())\n",
        "  ax.set_yticks(())\n",
        "\n",
        "plt.show()"
      ],
      "metadata": {
        "colab": {
          "base_uri": "https://localhost:8080/",
          "height": 253
        },
        "id": "rRLQJyzRaLNi",
        "outputId": "adab7d95-64a6-4018-9675-ea749dd58945"
      },
      "execution_count": 10,
      "outputs": [
        {
          "output_type": "display_data",
          "data": {
            "text/plain": [
              "<Figure size 432x288 with 60 Axes>"
            ],
            "image/png": "[encoded data removed]"
          },
          "metadata": {}
        }
      ]
    }
  ]
}