{
  "nbformat": 4,
  "nbformat_minor": 0,
  "metadata": {
    "colab": {
      "name": "[5]LSTM(BitCoin_Prediction).ipynb",
      "provenance": [],
      "collapsed_sections": []
    },
    "kernelspec": {
      "name": "python3",
      "display_name": "Python 3"
    },
    "language_info": {
      "name": "python"
    },
    "accelerator": "GPU"
  },
  "cells": [
    {
      "cell_type": "markdown",
      "source": [
        "## RNN\n",
        "### Bitcoin prediction using LSTM"
      ],
      "metadata": {
        "id": "ijtg9gSVsjK1"
      }
    },
    {
      "cell_type": "code",
      "source": [
        "import numpy as np\n",
        "import pandas as pd\n",
        "import matplotlib.pyplot as plt"
      ],
      "metadata": {
        "id": "cmvWu8pjsuue"
      },
      "execution_count": null,
      "outputs": []
    },
    {
      "cell_type": "code",
      "source": [
        "from google.colab import files\n",
        "uploaded = files.upload()\n",
        "\n",
        "# coindesk(1 year bitcoin price)\n",
        "f=open(\"BTC_USD_2021-02-03_2022-02-02-CoinDesk.csv\",\"r\")"
      ],
      "metadata": {
        "colab": {
          "resources": {
            "http://localhost:8080/nbextensions/google.colab/files.js": {
              "data": "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",
              "ok": true,
              "headers": [
                [
                  "content-type",
                  "application/javascript"
                ]
              ],
              "status": 200,
              "status_text": ""
            }
          },
          "base_uri": "https://localhost:8080/",
          "height": 74
        },
        "id": "Usn2-359s2ko",
        "outputId": "0f80a4e6-7f9a-4978-ab39-40fbcc96d105"
      },
      "execution_count": null,
      "outputs": [
        {
          "output_type": "display_data",
          "data": {
            "text/plain": [
              "<IPython.core.display.HTML object>"
            ],
            "text/html": [
              "\n",
              "     <input type=\"file\" id=\"files-6441f2b3-b8f6-4ada-b817-c72e7c594495\" name=\"files[]\" multiple disabled\n",
              "        style=\"border:none\" />\n",
              "     <output id=\"result-6441f2b3-b8f6-4ada-b817-c72e7c594495\">\n",
              "      Upload widget is only available when the cell has been executed in the\n",
              "      current browser session. Please rerun this cell to enable.\n",
              "      </output>\n",
              "      <script src=\"/nbextensions/google.colab/files.js\"></script> "
            ]
          },
          "metadata": {}
        },
        {
          "output_type": "stream",
          "name": "stdout",
          "text": [
            "Saving BTC_USD_2021-02-03_2022-02-02-CoinDesk.csv to BTC_USD_2021-02-03_2022-02-02-CoinDesk (2).csv\n"
          ]
        }
      ]
    },
    {
      "cell_type": "code",
      "source": [
        "coindesk_data=pd.read_csv(f,header=0)\n",
        "seq=coindesk_data[['Closing Price (USD)']].to_numpy() # closing price"
      ],
      "metadata": {
        "id": "3qF8WXK8s2ou"
      },
      "execution_count": null,
      "outputs": []
    },
    {
      "cell_type": "code",
      "source": [
        "# sequential data를 window 단위로 자르는 함수\n",
        "def seq2dataset(seq,window,horizon):\n",
        "    X=[]; Y=[]\n",
        "    for i in range(len(seq)-(window+horizon)+1):\n",
        "        x=seq[i:(i+window)]\n",
        "        y=(seq[i+window+horizon-1])\n",
        "        X.append(x); Y.append(y)\n",
        "    return np.array(X), np.array(Y)\n",
        "\n",
        "w=7 # window 크기\n",
        "h=1 # horizon 계수\n",
        "\n",
        "X,Y=seq2dataset(seq,w,h)"
      ],
      "metadata": {
        "id": "g2S7vkNwsuwC"
      },
      "execution_count": null,
      "outputs": []
    },
    {
      "cell_type": "code",
      "source": [
        "import sys\n",
        "import tensorflow as tf\n",
        "from tensorflow.keras.models import Sequential\n",
        "from tensorflow.keras.layers import Dense, LSTM, Dropout\n",
        "\n",
        "print(\"tensorflow version: \", tf.__version__)\n",
        "print(\"python version: \", sys.version)"
      ],
      "metadata": {
        "colab": {
          "base_uri": "https://localhost:8080/"
        },
        "id": "Pu8wlJLetHY8",
        "outputId": "7bc52c93-76fe-48a2-9ffd-01ea1dbef446"
      },
      "execution_count": null,
      "outputs": [
        {
          "output_type": "stream",
          "name": "stdout",
          "text": [
            "tensorflow version:  2.8.0\n",
            "python version:  3.7.13 (default, Mar 16 2022, 17:37:17) \n",
            "[GCC 7.5.0]\n"
          ]
        }
      ]
    },
    {
      "cell_type": "code",
      "source": [
        "# training set과 test set으로 split\n",
        "split=int(len(X)*0.7)\n",
        "x_train=X[0:split]; y_train=Y[0:split]\n",
        "x_test=X[split:]; y_test=Y[split:]"
      ],
      "metadata": {
        "id": "91XMUXM3tHab"
      },
      "execution_count": null,
      "outputs": []
    },
    {
      "cell_type": "code",
      "source": [
        "# LSTM model\n",
        "model=Sequential()\n",
        "model.add(LSTM(units=128,activation='relu',input_shape=x_train[0].shape))\n",
        "model.add(Dense(1))\n",
        "model.compile(loss='mae',optimizer='adam',metrics=['mae'])\n",
        "hist=model.fit(x_train,y_train,epochs=200,batch_size=1,validation_data=(x_test,y_test),verbose=2)"
      ],
      "metadata": {
        "colab": {
          "base_uri": "https://localhost:8080/"
        },
        "id": "YUXRfoJ7tM21",
        "outputId": "fa430749-da95-4208-8452-4e4d77b78907"
      },
      "execution_count": null,
      "outputs": [
        {
          "output_type": "stream",
          "name": "stdout",
          "text": [
            "WARNING:tensorflow:Layer lstm_1 will not use cuDNN kernels since it doesn't meet the criteria. It will use a generic GPU kernel as fallback when running on GPU.\n",
            "Epoch 1/200\n",
            "250/250 - 6s - loss: 9261.8174 - mae: 9261.8174 - val_loss: 2231.7151 - val_mae: 2231.7151 - 6s/epoch - 23ms/step\n",
            "Epoch 2/200\n",
            "250/250 - 2s - loss: 3412.3081 - mae: 3412.3081 - val_loss: 4486.0044 - val_mae: 4486.0044 - 2s/epoch - 8ms/step\n",
            "Epoch 3/200\n",
            "250/250 - 2s - loss: 3308.0073 - mae: 3308.0073 - val_loss: 2198.5073 - val_mae: 2198.5073 - 2s/epoch - 9ms/step\n",
            "Epoch 4/200\n",
            "250/250 - 2s - loss: 3237.4062 - mae: 3237.4062 - val_loss: 2029.3058 - val_mae: 2029.3058 - 2s/epoch - 9ms/step\n",
            "Epoch 5/200\n",
            "250/250 - 2s - loss: 3122.7852 - mae: 3122.7852 - val_loss: 3270.1301 - val_mae: 3270.1301 - 2s/epoch - 9ms/step\n",
            "Epoch 6/200\n",
            "250/250 - 2s - loss: 2969.5295 - mae: 2969.5295 - val_loss: 2500.1238 - val_mae: 2500.1238 - 2s/epoch - 9ms/step\n",
            "Epoch 7/200\n",
            "250/250 - 2s - loss: 3103.0684 - mae: 3103.0684 - val_loss: 2632.0286 - val_mae: 2632.0286 - 2s/epoch - 9ms/step\n",
            "Epoch 8/200\n",
            "250/250 - 2s - loss: 3313.6255 - mae: 3313.6255 - val_loss: 2098.2400 - val_mae: 2098.2400 - 2s/epoch - 9ms/step\n",
            "Epoch 9/200\n",
            "250/250 - 2s - loss: 3142.6960 - mae: 3142.6960 - val_loss: 2064.5208 - val_mae: 2064.5208 - 2s/epoch - 8ms/step\n",
            "Epoch 10/200\n",
            "250/250 - 2s - loss: 2855.1799 - mae: 2855.1799 - val_loss: 2608.1035 - val_mae: 2608.1035 - 2s/epoch - 9ms/step\n",
            "Epoch 11/200\n",
            "250/250 - 2s - loss: 3003.8364 - mae: 3003.8364 - val_loss: 1932.7769 - val_mae: 1932.7769 - 2s/epoch - 9ms/step\n",
            "Epoch 12/200\n",
            "250/250 - 2s - loss: 2796.9131 - mae: 2796.9131 - val_loss: 2075.5361 - val_mae: 2075.5361 - 2s/epoch - 9ms/step\n",
            "Epoch 13/200\n",
            "250/250 - 2s - loss: 2909.8845 - mae: 2909.8845 - val_loss: 2251.0586 - val_mae: 2251.0586 - 2s/epoch - 9ms/step\n",
            "Epoch 14/200\n",
            "250/250 - 2s - loss: 2716.1440 - mae: 2716.1440 - val_loss: 4598.1777 - val_mae: 4598.1777 - 2s/epoch - 9ms/step\n",
            "Epoch 15/200\n",
            "250/250 - 2s - loss: 2650.4934 - mae: 2650.4934 - val_loss: 3197.6465 - val_mae: 3197.6465 - 2s/epoch - 9ms/step\n",
            "Epoch 16/200\n",
            "250/250 - 2s - loss: 2517.9688 - mae: 2517.9688 - val_loss: 2183.1536 - val_mae: 2183.1536 - 2s/epoch - 9ms/step\n",
            "Epoch 17/200\n",
            "250/250 - 2s - loss: 2468.5911 - mae: 2468.5911 - val_loss: 1605.7612 - val_mae: 1605.7612 - 2s/epoch - 9ms/step\n",
            "Epoch 18/200\n",
            "250/250 - 2s - loss: 2514.6936 - mae: 2514.6936 - val_loss: 4724.8018 - val_mae: 4724.8018 - 2s/epoch - 9ms/step\n",
            "Epoch 19/200\n",
            "250/250 - 2s - loss: 2581.7275 - mae: 2581.7275 - val_loss: 1901.5182 - val_mae: 1901.5182 - 2s/epoch - 9ms/step\n",
            "Epoch 20/200\n",
            "250/250 - 2s - loss: 2180.2083 - mae: 2180.2083 - val_loss: 1537.6562 - val_mae: 1537.6562 - 2s/epoch - 9ms/step\n",
            "Epoch 21/200\n",
            "250/250 - 2s - loss: 2228.6206 - mae: 2228.6206 - val_loss: 1424.4253 - val_mae: 1424.4253 - 2s/epoch - 8ms/step\n",
            "Epoch 22/200\n",
            "250/250 - 2s - loss: 2172.4214 - mae: 2172.4214 - val_loss: 1526.2288 - val_mae: 1526.2288 - 2s/epoch - 9ms/step\n",
            "Epoch 23/200\n",
            "250/250 - 2s - loss: 2021.9666 - mae: 2021.9666 - val_loss: 1807.1720 - val_mae: 1807.1720 - 2s/epoch - 9ms/step\n",
            "Epoch 24/200\n",
            "250/250 - 2s - loss: 2081.7251 - mae: 2081.7251 - val_loss: 2748.1267 - val_mae: 2748.1267 - 2s/epoch - 9ms/step\n",
            "Epoch 25/200\n",
            "250/250 - 2s - loss: 2068.6196 - mae: 2068.6196 - val_loss: 2504.7949 - val_mae: 2504.7949 - 2s/epoch - 9ms/step\n",
            "Epoch 26/200\n",
            "250/250 - 2s - loss: 1847.4943 - mae: 1847.4943 - val_loss: 1943.1455 - val_mae: 1943.1455 - 2s/epoch - 8ms/step\n",
            "Epoch 27/200\n",
            "250/250 - 2s - loss: 1798.7198 - mae: 1798.7198 - val_loss: 1353.9053 - val_mae: 1353.9053 - 2s/epoch - 9ms/step\n",
            "Epoch 28/200\n",
            "250/250 - 2s - loss: 1721.5887 - mae: 1721.5887 - val_loss: 1373.0532 - val_mae: 1373.0532 - 2s/epoch - 9ms/step\n",
            "Epoch 29/200\n",
            "250/250 - 2s - loss: 1922.3710 - mae: 1922.3710 - val_loss: 2666.0686 - val_mae: 2666.0686 - 2s/epoch - 9ms/step\n",
            "Epoch 30/200\n",
            "250/250 - 2s - loss: 1721.3965 - mae: 1721.3965 - val_loss: 1613.5060 - val_mae: 1613.5060 - 2s/epoch - 9ms/step\n",
            "Epoch 31/200\n",
            "250/250 - 2s - loss: 1836.3560 - mae: 1836.3560 - val_loss: 1291.4617 - val_mae: 1291.4617 - 2s/epoch - 9ms/step\n",
            "Epoch 32/200\n",
            "250/250 - 2s - loss: 1694.6067 - mae: 1694.6067 - val_loss: 1284.4039 - val_mae: 1284.4039 - 2s/epoch - 8ms/step\n",
            "Epoch 33/200\n",
            "250/250 - 2s - loss: 1686.4344 - mae: 1686.4344 - val_loss: 1267.4409 - val_mae: 1267.4409 - 2s/epoch - 9ms/step\n",
            "Epoch 34/200\n",
            "250/250 - 2s - loss: 1643.1412 - mae: 1643.1412 - val_loss: 1342.8729 - val_mae: 1342.8729 - 2s/epoch - 9ms/step\n",
            "Epoch 35/200\n",
            "250/250 - 2s - loss: 1694.4388 - mae: 1694.4388 - val_loss: 1265.4237 - val_mae: 1265.4237 - 2s/epoch - 9ms/step\n",
            "Epoch 36/200\n",
            "250/250 - 2s - loss: 1699.3467 - mae: 1699.3467 - val_loss: 2279.4744 - val_mae: 2279.4744 - 2s/epoch - 9ms/step\n",
            "Epoch 37/200\n",
            "250/250 - 2s - loss: 1685.9270 - mae: 1685.9270 - val_loss: 1919.2233 - val_mae: 1919.2233 - 2s/epoch - 9ms/step\n",
            "Epoch 38/200\n",
            "250/250 - 2s - loss: 1680.5883 - mae: 1680.5883 - val_loss: 1323.7017 - val_mae: 1323.7017 - 2s/epoch - 9ms/step\n",
            "Epoch 39/200\n",
            "250/250 - 2s - loss: 1709.9406 - mae: 1709.9406 - val_loss: 1355.4623 - val_mae: 1355.4623 - 2s/epoch - 9ms/step\n",
            "Epoch 40/200\n",
            "250/250 - 2s - loss: 1832.6097 - mae: 1832.6097 - val_loss: 1279.6116 - val_mae: 1279.6116 - 2s/epoch - 9ms/step\n",
            "Epoch 41/200\n",
            "250/250 - 2s - loss: 1666.0736 - mae: 1666.0736 - val_loss: 1324.8448 - val_mae: 1324.8448 - 2s/epoch - 9ms/step\n",
            "Epoch 42/200\n",
            "250/250 - 2s - loss: 1688.2618 - mae: 1688.2618 - val_loss: 1257.5807 - val_mae: 1257.5807 - 2s/epoch - 10ms/step\n",
            "Epoch 43/200\n",
            "250/250 - 2s - loss: 1648.0565 - mae: 1648.0565 - val_loss: 1831.0308 - val_mae: 1831.0308 - 2s/epoch - 9ms/step\n",
            "Epoch 44/200\n",
            "250/250 - 2s - loss: 1703.0265 - mae: 1703.0265 - val_loss: 1662.4603 - val_mae: 1662.4603 - 2s/epoch - 8ms/step\n",
            "Epoch 45/200\n",
            "250/250 - 2s - loss: 1556.5522 - mae: 1556.5522 - val_loss: 1538.6956 - val_mae: 1538.6956 - 2s/epoch - 9ms/step\n",
            "Epoch 46/200\n",
            "250/250 - 2s - loss: 1650.5927 - mae: 1650.5927 - val_loss: 2179.2896 - val_mae: 2179.2896 - 2s/epoch - 9ms/step\n",
            "Epoch 47/200\n",
            "250/250 - 2s - loss: 1770.2476 - mae: 1770.2476 - val_loss: 1265.6041 - val_mae: 1265.6041 - 2s/epoch - 9ms/step\n",
            "Epoch 48/200\n",
            "250/250 - 2s - loss: 1652.9844 - mae: 1652.9844 - val_loss: 1391.9768 - val_mae: 1391.9768 - 2s/epoch - 9ms/step\n",
            "Epoch 49/200\n",
            "250/250 - 2s - loss: 1608.5035 - mae: 1608.5035 - val_loss: 1333.5483 - val_mae: 1333.5483 - 2s/epoch - 9ms/step\n",
            "Epoch 50/200\n",
            "250/250 - 2s - loss: 1641.2373 - mae: 1641.2373 - val_loss: 1407.2611 - val_mae: 1407.2611 - 2s/epoch - 9ms/step\n",
            "Epoch 51/200\n",
            "250/250 - 2s - loss: 1607.7748 - mae: 1607.7748 - val_loss: 2649.0750 - val_mae: 2649.0750 - 2s/epoch - 9ms/step\n",
            "Epoch 52/200\n",
            "250/250 - 2s - loss: 1619.8450 - mae: 1619.8450 - val_loss: 1732.3674 - val_mae: 1732.3674 - 2s/epoch - 9ms/step\n",
            "Epoch 53/200\n",
            "250/250 - 2s - loss: 1696.3965 - mae: 1696.3965 - val_loss: 1535.3334 - val_mae: 1535.3334 - 2s/epoch - 9ms/step\n",
            "Epoch 54/200\n",
            "250/250 - 2s - loss: 1713.4790 - mae: 1713.4790 - val_loss: 2216.8728 - val_mae: 2216.8728 - 2s/epoch - 9ms/step\n",
            "Epoch 55/200\n",
            "250/250 - 2s - loss: 1616.4794 - mae: 1616.4794 - val_loss: 1291.8397 - val_mae: 1291.8397 - 2s/epoch - 9ms/step\n",
            "Epoch 56/200\n",
            "250/250 - 2s - loss: 1734.1442 - mae: 1734.1442 - val_loss: 1602.7695 - val_mae: 1602.7695 - 2s/epoch - 9ms/step\n",
            "Epoch 57/200\n",
            "250/250 - 2s - loss: 1610.5879 - mae: 1610.5879 - val_loss: 1366.9138 - val_mae: 1366.9138 - 2s/epoch - 9ms/step\n",
            "Epoch 58/200\n",
            "250/250 - 2s - loss: 1687.5842 - mae: 1687.5842 - val_loss: 1355.4067 - val_mae: 1355.4067 - 2s/epoch - 9ms/step\n",
            "Epoch 59/200\n",
            "250/250 - 2s - loss: 1591.2754 - mae: 1591.2754 - val_loss: 2727.5063 - val_mae: 2727.5063 - 2s/epoch - 9ms/step\n",
            "Epoch 60/200\n",
            "250/250 - 2s - loss: 1661.3090 - mae: 1661.3090 - val_loss: 1773.1492 - val_mae: 1773.1492 - 2s/epoch - 9ms/step\n",
            "Epoch 61/200\n",
            "250/250 - 2s - loss: 1641.1312 - mae: 1641.1312 - val_loss: 1286.8389 - val_mae: 1286.8389 - 2s/epoch - 9ms/step\n",
            "Epoch 62/200\n",
            "250/250 - 2s - loss: 1629.0171 - mae: 1629.0171 - val_loss: 1333.8064 - val_mae: 1333.8064 - 2s/epoch - 9ms/step\n",
            "Epoch 63/200\n",
            "250/250 - 2s - loss: 1720.7609 - mae: 1720.7609 - val_loss: 2591.0596 - val_mae: 2591.0596 - 2s/epoch - 9ms/step\n",
            "Epoch 64/200\n",
            "250/250 - 2s - loss: 1614.0570 - mae: 1614.0570 - val_loss: 1749.3290 - val_mae: 1749.3290 - 2s/epoch - 9ms/step\n",
            "Epoch 65/200\n",
            "250/250 - 2s - loss: 1689.4653 - mae: 1689.4653 - val_loss: 1494.8079 - val_mae: 1494.8079 - 2s/epoch - 9ms/step\n",
            "Epoch 66/200\n",
            "250/250 - 2s - loss: 1621.5610 - mae: 1621.5610 - val_loss: 1295.4287 - val_mae: 1295.4287 - 2s/epoch - 9ms/step\n",
            "Epoch 67/200\n",
            "250/250 - 2s - loss: 1605.2758 - mae: 1605.2758 - val_loss: 1277.7404 - val_mae: 1277.7404 - 2s/epoch - 9ms/step\n",
            "Epoch 68/200\n",
            "250/250 - 2s - loss: 1595.7524 - mae: 1595.7524 - val_loss: 1961.1976 - val_mae: 1961.1976 - 2s/epoch - 9ms/step\n",
            "Epoch 69/200\n",
            "250/250 - 2s - loss: 1547.5674 - mae: 1547.5674 - val_loss: 1383.9430 - val_mae: 1383.9430 - 2s/epoch - 9ms/step\n",
            "Epoch 70/200\n",
            "250/250 - 2s - loss: 1629.5446 - mae: 1629.5446 - val_loss: 1424.6898 - val_mae: 1424.6898 - 2s/epoch - 9ms/step\n",
            "Epoch 71/200\n",
            "250/250 - 2s - loss: 1625.5087 - mae: 1625.5087 - val_loss: 1760.6249 - val_mae: 1760.6249 - 2s/epoch - 9ms/step\n",
            "Epoch 72/200\n",
            "250/250 - 2s - loss: 1642.1504 - mae: 1642.1504 - val_loss: 1641.2277 - val_mae: 1641.2277 - 2s/epoch - 9ms/step\n",
            "Epoch 73/200\n",
            "250/250 - 2s - loss: 1633.7656 - mae: 1633.7656 - val_loss: 1257.8101 - val_mae: 1257.8101 - 2s/epoch - 9ms/step\n",
            "Epoch 74/200\n",
            "250/250 - 2s - loss: 1552.0378 - mae: 1552.0378 - val_loss: 1269.4624 - val_mae: 1269.4624 - 2s/epoch - 9ms/step\n",
            "Epoch 75/200\n",
            "250/250 - 2s - loss: 1622.6545 - mae: 1622.6545 - val_loss: 1415.2620 - val_mae: 1415.2620 - 2s/epoch - 9ms/step\n",
            "Epoch 76/200\n",
            "250/250 - 2s - loss: 1640.8790 - mae: 1640.8790 - val_loss: 1407.4414 - val_mae: 1407.4414 - 2s/epoch - 9ms/step\n",
            "Epoch 77/200\n",
            "250/250 - 2s - loss: 1576.5966 - mae: 1576.5966 - val_loss: 1477.9209 - val_mae: 1477.9209 - 2s/epoch - 9ms/step\n",
            "Epoch 78/200\n",
            "250/250 - 2s - loss: 1688.0118 - mae: 1688.0118 - val_loss: 2682.3989 - val_mae: 2682.3989 - 2s/epoch - 9ms/step\n",
            "Epoch 79/200\n",
            "250/250 - 2s - loss: 1600.9209 - mae: 1600.9209 - val_loss: 1291.3579 - val_mae: 1291.3579 - 2s/epoch - 9ms/step\n",
            "Epoch 80/200\n",
            "250/250 - 3s - loss: 1626.0549 - mae: 1626.0549 - val_loss: 1363.7720 - val_mae: 1363.7720 - 3s/epoch - 11ms/step\n",
            "Epoch 81/200\n",
            "250/250 - 4s - loss: 1624.6409 - mae: 1624.6409 - val_loss: 1430.8438 - val_mae: 1430.8438 - 4s/epoch - 14ms/step\n",
            "Epoch 82/200\n",
            "250/250 - 4s - loss: 1572.8639 - mae: 1572.8639 - val_loss: 1824.8026 - val_mae: 1824.8026 - 4s/epoch - 15ms/step\n",
            "Epoch 83/200\n",
            "250/250 - 4s - loss: 1612.6202 - mae: 1612.6202 - val_loss: 1724.4894 - val_mae: 1724.4894 - 4s/epoch - 16ms/step\n",
            "Epoch 84/200\n",
            "250/250 - 3s - loss: 1666.1813 - mae: 1666.1813 - val_loss: 1464.0491 - val_mae: 1464.0491 - 3s/epoch - 13ms/step\n",
            "Epoch 85/200\n",
            "250/250 - 2s - loss: 1657.8496 - mae: 1657.8496 - val_loss: 1303.3069 - val_mae: 1303.3069 - 2s/epoch - 9ms/step\n",
            "Epoch 86/200\n",
            "250/250 - 2s - loss: 1670.4741 - mae: 1670.4741 - val_loss: 1675.7450 - val_mae: 1675.7450 - 2s/epoch - 9ms/step\n",
            "Epoch 87/200\n",
            "250/250 - 2s - loss: 1633.5892 - mae: 1633.5892 - val_loss: 1231.8171 - val_mae: 1231.8171 - 2s/epoch - 8ms/step\n",
            "Epoch 88/200\n",
            "250/250 - 2s - loss: 1670.3615 - mae: 1670.3615 - val_loss: 1490.0955 - val_mae: 1490.0955 - 2s/epoch - 9ms/step\n",
            "Epoch 89/200\n",
            "250/250 - 2s - loss: 1677.3674 - mae: 1677.3674 - val_loss: 1276.2179 - val_mae: 1276.2179 - 2s/epoch - 9ms/step\n",
            "Epoch 90/200\n",
            "250/250 - 2s - loss: 1545.4663 - mae: 1545.4663 - val_loss: 1416.4326 - val_mae: 1416.4326 - 2s/epoch - 9ms/step\n",
            "Epoch 91/200\n",
            "250/250 - 2s - loss: 1574.5054 - mae: 1574.5054 - val_loss: 1234.0731 - val_mae: 1234.0731 - 2s/epoch - 9ms/step\n",
            "Epoch 92/200\n",
            "250/250 - 2s - loss: 1585.6678 - mae: 1585.6678 - val_loss: 1237.2939 - val_mae: 1237.2939 - 2s/epoch - 9ms/step\n",
            "Epoch 93/200\n",
            "250/250 - 2s - loss: 1552.9944 - mae: 1552.9944 - val_loss: 1341.5194 - val_mae: 1341.5194 - 2s/epoch - 9ms/step\n",
            "Epoch 94/200\n",
            "250/250 - 2s - loss: 1639.9022 - mae: 1639.9022 - val_loss: 1311.3483 - val_mae: 1311.3483 - 2s/epoch - 9ms/step\n",
            "Epoch 95/200\n",
            "250/250 - 2s - loss: 1604.9797 - mae: 1604.9797 - val_loss: 1349.7217 - val_mae: 1349.7217 - 2s/epoch - 9ms/step\n",
            "Epoch 96/200\n",
            "250/250 - 2s - loss: 1541.1124 - mae: 1541.1124 - val_loss: 1308.6807 - val_mae: 1308.6807 - 2s/epoch - 9ms/step\n",
            "Epoch 97/200\n",
            "250/250 - 2s - loss: 1589.3533 - mae: 1589.3533 - val_loss: 1315.5095 - val_mae: 1315.5095 - 2s/epoch - 9ms/step\n",
            "Epoch 98/200\n",
            "250/250 - 2s - loss: 1571.1692 - mae: 1571.1692 - val_loss: 1642.7148 - val_mae: 1642.7148 - 2s/epoch - 9ms/step\n",
            "Epoch 99/200\n",
            "250/250 - 2s - loss: 1605.4861 - mae: 1605.4861 - val_loss: 1335.3518 - val_mae: 1335.3518 - 2s/epoch - 9ms/step\n",
            "Epoch 100/200\n",
            "250/250 - 2s - loss: 1601.9277 - mae: 1601.9277 - val_loss: 2127.5576 - val_mae: 2127.5576 - 2s/epoch - 9ms/step\n",
            "Epoch 101/200\n",
            "250/250 - 2s - loss: 1730.9540 - mae: 1730.9540 - val_loss: 1200.3481 - val_mae: 1200.3481 - 2s/epoch - 9ms/step\n",
            "Epoch 102/200\n",
            "250/250 - 2s - loss: 1594.3523 - mae: 1594.3523 - val_loss: 1201.8416 - val_mae: 1201.8416 - 2s/epoch - 8ms/step\n",
            "Epoch 103/200\n",
            "250/250 - 2s - loss: 1581.5325 - mae: 1581.5325 - val_loss: 1810.1450 - val_mae: 1810.1450 - 2s/epoch - 9ms/step\n",
            "Epoch 104/200\n",
            "250/250 - 2s - loss: 1538.7147 - mae: 1538.7147 - val_loss: 1225.4884 - val_mae: 1225.4884 - 2s/epoch - 9ms/step\n",
            "Epoch 105/200\n",
            "250/250 - 2s - loss: 1535.0072 - mae: 1535.0072 - val_loss: 1264.9507 - val_mae: 1264.9507 - 2s/epoch - 9ms/step\n",
            "Epoch 106/200\n",
            "250/250 - 2s - loss: 1547.2518 - mae: 1547.2518 - val_loss: 1391.6338 - val_mae: 1391.6338 - 2s/epoch - 9ms/step\n",
            "Epoch 107/200\n",
            "250/250 - 2s - loss: 1542.5048 - mae: 1542.5048 - val_loss: 1239.0983 - val_mae: 1239.0983 - 2s/epoch - 9ms/step\n",
            "Epoch 108/200\n",
            "250/250 - 2s - loss: 1610.6630 - mae: 1610.6630 - val_loss: 1693.2578 - val_mae: 1693.2578 - 2s/epoch - 9ms/step\n",
            "Epoch 109/200\n",
            "250/250 - 2s - loss: 1623.3276 - mae: 1623.3276 - val_loss: 1573.8182 - val_mae: 1573.8182 - 2s/epoch - 9ms/step\n",
            "Epoch 110/200\n",
            "250/250 - 2s - loss: 1559.0043 - mae: 1559.0043 - val_loss: 1380.3456 - val_mae: 1380.3456 - 2s/epoch - 9ms/step\n",
            "Epoch 111/200\n",
            "250/250 - 2s - loss: 1569.6730 - mae: 1569.6730 - val_loss: 1345.4825 - val_mae: 1345.4825 - 2s/epoch - 9ms/step\n",
            "Epoch 112/200\n",
            "250/250 - 2s - loss: 1634.0376 - mae: 1634.0376 - val_loss: 1352.8539 - val_mae: 1352.8539 - 2s/epoch - 9ms/step\n",
            "Epoch 113/200\n",
            "250/250 - 2s - loss: 1556.8098 - mae: 1556.8098 - val_loss: 1964.4955 - val_mae: 1964.4955 - 2s/epoch - 9ms/step\n",
            "Epoch 114/200\n",
            "250/250 - 2s - loss: 1541.3936 - mae: 1541.3936 - val_loss: 1211.5396 - val_mae: 1211.5396 - 2s/epoch - 9ms/step\n",
            "Epoch 115/200\n",
            "250/250 - 2s - loss: 1550.4873 - mae: 1550.4873 - val_loss: 1229.3159 - val_mae: 1229.3159 - 2s/epoch - 9ms/step\n",
            "Epoch 116/200\n",
            "250/250 - 2s - loss: 1556.6564 - mae: 1556.6564 - val_loss: 1205.1262 - val_mae: 1205.1262 - 2s/epoch - 9ms/step\n",
            "Epoch 117/200\n",
            "250/250 - 2s - loss: 1532.7052 - mae: 1532.7052 - val_loss: 1508.1222 - val_mae: 1508.1222 - 2s/epoch - 9ms/step\n",
            "Epoch 118/200\n",
            "250/250 - 2s - loss: 1571.5503 - mae: 1571.5503 - val_loss: 1284.2723 - val_mae: 1284.2723 - 2s/epoch - 9ms/step\n",
            "Epoch 119/200\n",
            "250/250 - 2s - loss: 1581.3857 - mae: 1581.3857 - val_loss: 2073.3386 - val_mae: 2073.3386 - 2s/epoch - 9ms/step\n",
            "Epoch 120/200\n",
            "250/250 - 2s - loss: 1647.7384 - mae: 1647.7384 - val_loss: 1456.3701 - val_mae: 1456.3701 - 2s/epoch - 9ms/step\n",
            "Epoch 121/200\n",
            "250/250 - 2s - loss: 1572.2462 - mae: 1572.2462 - val_loss: 1471.5959 - val_mae: 1471.5959 - 2s/epoch - 9ms/step\n",
            "Epoch 122/200\n",
            "250/250 - 2s - loss: 1565.2675 - mae: 1565.2675 - val_loss: 1390.6810 - val_mae: 1390.6810 - 2s/epoch - 9ms/step\n",
            "Epoch 123/200\n",
            "250/250 - 2s - loss: 1475.0714 - mae: 1475.0714 - val_loss: 1214.3475 - val_mae: 1214.3475 - 2s/epoch - 9ms/step\n",
            "Epoch 124/200\n",
            "250/250 - 2s - loss: 1508.7769 - mae: 1508.7769 - val_loss: 1345.0844 - val_mae: 1345.0844 - 2s/epoch - 9ms/step\n",
            "Epoch 125/200\n",
            "250/250 - 2s - loss: 1560.4130 - mae: 1560.4130 - val_loss: 1999.2679 - val_mae: 1999.2679 - 2s/epoch - 9ms/step\n",
            "Epoch 126/200\n",
            "250/250 - 3s - loss: 1601.4683 - mae: 1601.4683 - val_loss: 1653.6787 - val_mae: 1653.6787 - 3s/epoch - 11ms/step\n",
            "Epoch 127/200\n",
            "250/250 - 2s - loss: 1611.9882 - mae: 1611.9882 - val_loss: 1321.2906 - val_mae: 1321.2906 - 2s/epoch - 9ms/step\n",
            "Epoch 128/200\n",
            "250/250 - 2s - loss: 1588.3364 - mae: 1588.3364 - val_loss: 1442.4517 - val_mae: 1442.4517 - 2s/epoch - 9ms/step\n",
            "Epoch 129/200\n",
            "250/250 - 2s - loss: 1533.1023 - mae: 1533.1023 - val_loss: 1332.3798 - val_mae: 1332.3798 - 2s/epoch - 9ms/step\n",
            "Epoch 130/200\n",
            "250/250 - 2s - loss: 1553.6073 - mae: 1553.6073 - val_loss: 1283.0831 - val_mae: 1283.0831 - 2s/epoch - 9ms/step\n",
            "Epoch 131/200\n",
            "250/250 - 2s - loss: 1639.0653 - mae: 1639.0653 - val_loss: 1201.7592 - val_mae: 1201.7592 - 2s/epoch - 9ms/step\n",
            "Epoch 132/200\n",
            "250/250 - 2s - loss: 1530.7095 - mae: 1530.7095 - val_loss: 1207.2080 - val_mae: 1207.2080 - 2s/epoch - 9ms/step\n",
            "Epoch 133/200\n",
            "250/250 - 2s - loss: 1527.2285 - mae: 1527.2285 - val_loss: 1243.8085 - val_mae: 1243.8085 - 2s/epoch - 9ms/step\n",
            "Epoch 134/200\n",
            "250/250 - 2s - loss: 1593.4075 - mae: 1593.4075 - val_loss: 1210.6681 - val_mae: 1210.6681 - 2s/epoch - 9ms/step\n",
            "Epoch 135/200\n",
            "250/250 - 2s - loss: 1591.5460 - mae: 1591.5460 - val_loss: 1291.2690 - val_mae: 1291.2690 - 2s/epoch - 9ms/step\n",
            "Epoch 136/200\n",
            "250/250 - 2s - loss: 1698.7328 - mae: 1698.7328 - val_loss: 1199.9712 - val_mae: 1199.9712 - 2s/epoch - 9ms/step\n",
            "Epoch 137/200\n",
            "250/250 - 2s - loss: 1525.1189 - mae: 1525.1189 - val_loss: 1282.8578 - val_mae: 1282.8578 - 2s/epoch - 9ms/step\n",
            "Epoch 138/200\n",
            "250/250 - 2s - loss: 1553.3414 - mae: 1553.3414 - val_loss: 1326.1506 - val_mae: 1326.1506 - 2s/epoch - 9ms/step\n",
            "Epoch 139/200\n",
            "250/250 - 2s - loss: 1542.4673 - mae: 1542.4673 - val_loss: 1920.7616 - val_mae: 1920.7616 - 2s/epoch - 8ms/step\n",
            "Epoch 140/200\n",
            "250/250 - 2s - loss: 1528.6364 - mae: 1528.6364 - val_loss: 1206.9728 - val_mae: 1206.9728 - 2s/epoch - 9ms/step\n",
            "Epoch 141/200\n",
            "250/250 - 2s - loss: 1567.2458 - mae: 1567.2458 - val_loss: 1483.8403 - val_mae: 1483.8403 - 2s/epoch - 9ms/step\n",
            "Epoch 142/200\n",
            "250/250 - 2s - loss: 1541.9810 - mae: 1541.9810 - val_loss: 1457.2628 - val_mae: 1457.2628 - 2s/epoch - 8ms/step\n",
            "Epoch 143/200\n",
            "250/250 - 2s - loss: 1551.5546 - mae: 1551.5546 - val_loss: 1230.5593 - val_mae: 1230.5593 - 2s/epoch - 9ms/step\n",
            "Epoch 144/200\n",
            "250/250 - 2s - loss: 1530.0966 - mae: 1530.0966 - val_loss: 1337.6733 - val_mae: 1337.6733 - 2s/epoch - 9ms/step\n",
            "Epoch 145/200\n",
            "250/250 - 2s - loss: 1620.7656 - mae: 1620.7656 - val_loss: 1418.2772 - val_mae: 1418.2772 - 2s/epoch - 9ms/step\n",
            "Epoch 146/200\n",
            "250/250 - 2s - loss: 1569.0426 - mae: 1569.0426 - val_loss: 1275.6656 - val_mae: 1275.6656 - 2s/epoch - 8ms/step\n",
            "Epoch 147/200\n",
            "250/250 - 2s - loss: 1610.4257 - mae: 1610.4257 - val_loss: 1212.2407 - val_mae: 1212.2407 - 2s/epoch - 9ms/step\n",
            "Epoch 148/200\n",
            "250/250 - 2s - loss: 1562.8965 - mae: 1562.8965 - val_loss: 1204.1342 - val_mae: 1204.1342 - 2s/epoch - 9ms/step\n",
            "Epoch 149/200\n",
            "250/250 - 2s - loss: 1590.3114 - mae: 1590.3114 - val_loss: 1532.6516 - val_mae: 1532.6516 - 2s/epoch - 9ms/step\n",
            "Epoch 150/200\n",
            "250/250 - 2s - loss: 1541.3147 - mae: 1541.3147 - val_loss: 1640.1144 - val_mae: 1640.1144 - 2s/epoch - 9ms/step\n",
            "Epoch 151/200\n",
            "250/250 - 2s - loss: 1552.5610 - mae: 1552.5610 - val_loss: 1223.6503 - val_mae: 1223.6503 - 2s/epoch - 9ms/step\n",
            "Epoch 152/200\n",
            "250/250 - 2s - loss: 1578.4425 - mae: 1578.4425 - val_loss: 1347.9760 - val_mae: 1347.9760 - 2s/epoch - 9ms/step\n",
            "Epoch 153/200\n",
            "250/250 - 2s - loss: 1558.2847 - mae: 1558.2847 - val_loss: 1364.5343 - val_mae: 1364.5343 - 2s/epoch - 8ms/step\n",
            "Epoch 154/200\n",
            "250/250 - 2s - loss: 1504.4242 - mae: 1504.4242 - val_loss: 1466.0990 - val_mae: 1466.0990 - 2s/epoch - 9ms/step\n",
            "Epoch 155/200\n",
            "250/250 - 2s - loss: 1605.0225 - mae: 1605.0225 - val_loss: 1287.3237 - val_mae: 1287.3237 - 2s/epoch - 9ms/step\n",
            "Epoch 156/200\n",
            "250/250 - 2s - loss: 1505.5842 - mae: 1505.5842 - val_loss: 1380.8303 - val_mae: 1380.8303 - 2s/epoch - 9ms/step\n",
            "Epoch 157/200\n",
            "250/250 - 2s - loss: 1583.1187 - mae: 1583.1187 - val_loss: 1395.9154 - val_mae: 1395.9154 - 2s/epoch - 9ms/step\n",
            "Epoch 158/200\n",
            "250/250 - 2s - loss: 1508.7200 - mae: 1508.7200 - val_loss: 1503.2196 - val_mae: 1503.2196 - 2s/epoch - 9ms/step\n",
            "Epoch 159/200\n",
            "250/250 - 2s - loss: 1491.9923 - mae: 1491.9923 - val_loss: 1203.5436 - val_mae: 1203.5436 - 2s/epoch - 8ms/step\n",
            "Epoch 160/200\n",
            "250/250 - 2s - loss: 1552.9540 - mae: 1552.9540 - val_loss: 1272.9713 - val_mae: 1272.9713 - 2s/epoch - 9ms/step\n",
            "Epoch 161/200\n",
            "250/250 - 2s - loss: 1488.5975 - mae: 1488.5975 - val_loss: 1234.8810 - val_mae: 1234.8810 - 2s/epoch - 9ms/step\n",
            "Epoch 162/200\n",
            "250/250 - 2s - loss: 1573.0007 - mae: 1573.0007 - val_loss: 1322.4946 - val_mae: 1322.4946 - 2s/epoch - 9ms/step\n",
            "Epoch 163/200\n",
            "250/250 - 2s - loss: 1529.0054 - mae: 1529.0054 - val_loss: 1208.2490 - val_mae: 1208.2490 - 2s/epoch - 9ms/step\n",
            "Epoch 164/200\n",
            "250/250 - 2s - loss: 1562.9600 - mae: 1562.9600 - val_loss: 1421.7510 - val_mae: 1421.7510 - 2s/epoch - 9ms/step\n",
            "Epoch 165/200\n",
            "250/250 - 2s - loss: 1569.7384 - mae: 1569.7384 - val_loss: 1217.9375 - val_mae: 1217.9375 - 2s/epoch - 9ms/step\n",
            "Epoch 166/200\n",
            "250/250 - 2s - loss: 1546.1007 - mae: 1546.1007 - val_loss: 1213.9797 - val_mae: 1213.9797 - 2s/epoch - 9ms/step\n",
            "Epoch 167/200\n",
            "250/250 - 2s - loss: 1535.2323 - mae: 1535.2323 - val_loss: 1202.2625 - val_mae: 1202.2625 - 2s/epoch - 9ms/step\n",
            "Epoch 168/200\n",
            "250/250 - 2s - loss: 1544.1434 - mae: 1544.1434 - val_loss: 1202.9182 - val_mae: 1202.9182 - 2s/epoch - 9ms/step\n",
            "Epoch 169/200\n",
            "250/250 - 2s - loss: 1590.0785 - mae: 1590.0785 - val_loss: 1244.5018 - val_mae: 1244.5018 - 2s/epoch - 9ms/step\n",
            "Epoch 170/200\n",
            "250/250 - 2s - loss: 1514.4622 - mae: 1514.4622 - val_loss: 1716.5226 - val_mae: 1716.5226 - 2s/epoch - 9ms/step\n",
            "Epoch 171/200\n",
            "250/250 - 2s - loss: 1548.5435 - mae: 1548.5435 - val_loss: 1250.6105 - val_mae: 1250.6105 - 2s/epoch - 8ms/step\n",
            "Epoch 172/200\n",
            "250/250 - 2s - loss: 1567.9534 - mae: 1567.9534 - val_loss: 1540.6310 - val_mae: 1540.6310 - 2s/epoch - 9ms/step\n",
            "Epoch 173/200\n",
            "250/250 - 2s - loss: 1486.4728 - mae: 1486.4728 - val_loss: 1580.6975 - val_mae: 1580.6975 - 2s/epoch - 9ms/step\n",
            "Epoch 174/200\n",
            "250/250 - 2s - loss: 1570.5417 - mae: 1570.5417 - val_loss: 1469.5038 - val_mae: 1469.5038 - 2s/epoch - 9ms/step\n",
            "Epoch 175/200\n",
            "250/250 - 2s - loss: 1555.1819 - mae: 1555.1819 - val_loss: 1437.7054 - val_mae: 1437.7054 - 2s/epoch - 9ms/step\n",
            "Epoch 176/200\n",
            "250/250 - 2s - loss: 1562.7118 - mae: 1562.7118 - val_loss: 1588.9451 - val_mae: 1588.9451 - 2s/epoch - 9ms/step\n",
            "Epoch 177/200\n",
            "250/250 - 2s - loss: 1542.7675 - mae: 1542.7675 - val_loss: 1215.4497 - val_mae: 1215.4497 - 2s/epoch - 9ms/step\n",
            "Epoch 178/200\n",
            "250/250 - 2s - loss: 1584.7094 - mae: 1584.7094 - val_loss: 1381.1875 - val_mae: 1381.1875 - 2s/epoch - 9ms/step\n",
            "Epoch 179/200\n",
            "250/250 - 2s - loss: 1617.0154 - mae: 1617.0154 - val_loss: 1310.7280 - val_mae: 1310.7280 - 2s/epoch - 9ms/step\n",
            "Epoch 180/200\n",
            "250/250 - 2s - loss: 1570.3613 - mae: 1570.3613 - val_loss: 1357.5721 - val_mae: 1357.5721 - 2s/epoch - 9ms/step\n",
            "Epoch 181/200\n",
            "250/250 - 2s - loss: 1519.5172 - mae: 1519.5172 - val_loss: 1202.0321 - val_mae: 1202.0321 - 2s/epoch - 9ms/step\n",
            "Epoch 182/200\n",
            "250/250 - 2s - loss: 1575.7769 - mae: 1575.7769 - val_loss: 1477.6271 - val_mae: 1477.6271 - 2s/epoch - 9ms/step\n",
            "Epoch 183/200\n",
            "250/250 - 2s - loss: 1556.1727 - mae: 1556.1727 - val_loss: 1505.3518 - val_mae: 1505.3518 - 2s/epoch - 9ms/step\n",
            "Epoch 184/200\n",
            "250/250 - 2s - loss: 1535.3652 - mae: 1535.3652 - val_loss: 1495.7994 - val_mae: 1495.7994 - 2s/epoch - 9ms/step\n",
            "Epoch 185/200\n",
            "250/250 - 2s - loss: 1610.8547 - mae: 1610.8547 - val_loss: 1202.9475 - val_mae: 1202.9475 - 2s/epoch - 9ms/step\n",
            "Epoch 186/200\n",
            "250/250 - 2s - loss: 1528.3816 - mae: 1528.3816 - val_loss: 1201.8030 - val_mae: 1201.8030 - 2s/epoch - 9ms/step\n",
            "Epoch 187/200\n",
            "250/250 - 2s - loss: 1611.7793 - mae: 1611.7793 - val_loss: 1397.3383 - val_mae: 1397.3383 - 2s/epoch - 9ms/step\n",
            "Epoch 188/200\n",
            "250/250 - 2s - loss: 1530.8885 - mae: 1530.8885 - val_loss: 1249.8044 - val_mae: 1249.8044 - 2s/epoch - 9ms/step\n",
            "Epoch 189/200\n",
            "250/250 - 2s - loss: 1581.7159 - mae: 1581.7159 - val_loss: 1208.4240 - val_mae: 1208.4240 - 2s/epoch - 9ms/step\n",
            "Epoch 190/200\n",
            "250/250 - 2s - loss: 1551.8511 - mae: 1551.8511 - val_loss: 1805.7681 - val_mae: 1805.7681 - 2s/epoch - 9ms/step\n",
            "Epoch 191/200\n",
            "250/250 - 2s - loss: 1570.4575 - mae: 1570.4575 - val_loss: 1780.8878 - val_mae: 1780.8878 - 2s/epoch - 9ms/step\n",
            "Epoch 192/200\n",
            "250/250 - 2s - loss: 1568.6531 - mae: 1568.6531 - val_loss: 1334.7740 - val_mae: 1334.7740 - 2s/epoch - 9ms/step\n",
            "Epoch 193/200\n",
            "250/250 - 2s - loss: 1521.7329 - mae: 1521.7329 - val_loss: 1204.9939 - val_mae: 1204.9939 - 2s/epoch - 9ms/step\n",
            "Epoch 194/200\n",
            "250/250 - 2s - loss: 1556.7566 - mae: 1556.7566 - val_loss: 1214.9806 - val_mae: 1214.9806 - 2s/epoch - 9ms/step\n",
            "Epoch 195/200\n",
            "250/250 - 2s - loss: 1581.7145 - mae: 1581.7145 - val_loss: 1217.6622 - val_mae: 1217.6622 - 2s/epoch - 9ms/step\n",
            "Epoch 196/200\n",
            "250/250 - 2s - loss: 1562.7069 - mae: 1562.7069 - val_loss: 1428.0829 - val_mae: 1428.0829 - 2s/epoch - 9ms/step\n",
            "Epoch 197/200\n",
            "250/250 - 2s - loss: 1535.7638 - mae: 1535.7638 - val_loss: 2185.8650 - val_mae: 2185.8650 - 2s/epoch - 9ms/step\n",
            "Epoch 198/200\n",
            "250/250 - 2s - loss: 1587.6986 - mae: 1587.6986 - val_loss: 1225.3771 - val_mae: 1225.3771 - 2s/epoch - 8ms/step\n",
            "Epoch 199/200\n",
            "250/250 - 2s - loss: 1604.7732 - mae: 1604.7732 - val_loss: 1394.1796 - val_mae: 1394.1796 - 2s/epoch - 9ms/step\n",
            "Epoch 200/200\n",
            "250/250 - 2s - loss: 1493.2599 - mae: 1493.2599 - val_loss: 1255.1478 - val_mae: 1255.1478 - 2s/epoch - 9ms/step\n"
          ]
        }
      ]
    },
    {
      "cell_type": "code",
      "source": [
        "# LSTM model evaluation\n",
        "ev=model.evaluate(x_test,y_test,verbose=0)\n",
        "print(\"손실 함수:\",ev[0],\"MAE:\",ev[1])"
      ],
      "metadata": {
        "colab": {
          "base_uri": "https://localhost:8080/"
        },
        "id": "1hPP42eXtM5m",
        "outputId": "54ddafa5-7d23-49c4-800e-04cbbe669628"
      },
      "execution_count": null,
      "outputs": [
        {
          "output_type": "stream",
          "name": "stdout",
          "text": [
            "손실 함수: 1255.1478271484375 MAE: 1255.1478271484375\n"
          ]
        }
      ]
    },
    {
      "cell_type": "code",
      "source": [
        "# LSTM model prediction\n",
        "pred=model.predict(x_test)\n",
        "print(\"평균절댓값백분율오차(MAPE):\",sum(abs(y_test-pred)/y_test)/len(x_test))"
      ],
      "metadata": {
        "colab": {
          "base_uri": "https://localhost:8080/"
        },
        "id": "4-vzYYwwtM6y",
        "outputId": "25a9a5b8-3ea7-40f0-df6e-265b3f55bdde"
      },
      "execution_count": null,
      "outputs": [
        {
          "output_type": "stream",
          "name": "stdout",
          "text": [
            "평균절댓값백분율오차(MAPE): [0.02415612]\n"
          ]
        }
      ]
    },
    {
      "cell_type": "code",
      "execution_count": null,
      "metadata": {
        "colab": {
          "base_uri": "https://localhost:8080/",
          "height": 791
        },
        "id": "OnCVipO3sd2l",
        "outputId": "9ccc770d-c801-4d8c-c7c9-5e5f25cff78a"
      },
      "outputs": [
        {
          "output_type": "display_data",
          "data": {
            "text/plain": [
              "<Figure size 432x288 with 1 Axes>"
            ],
            "image/png": "[encoded data removed]"
          },
          "metadata": {
            "needs_background": "light"
          }
        },
        {
          "output_type": "display_data",
          "data": {
            "text/plain": [
              "<Figure size 432x288 with 1 Axes>"
            ],
            "image/png": "[encoded data removed]"
          },
          "metadata": {
            "needs_background": "light"
          }
        },
        {
          "output_type": "display_data",
          "data": {
            "text/plain": [
              "<Figure size 432x288 with 1 Axes>"
            ],
            "image/png": "[encoded data removed]"
          },
          "metadata": {
            "needs_background": "light"
          }
        }
      ],
      "source": [
        "# 학습 곡선\n",
        "plt.plot(hist.history['mae'])\n",
        "plt.plot(hist.history['val_mae'])\n",
        "plt.title('Model mae')\n",
        "plt.ylabel('mae')\n",
        "plt.xlabel('Epoch')\n",
        "plt.ylim([0,10000])\n",
        "plt.legend(['Train','Validation'], loc='best')\n",
        "plt.grid()\n",
        "plt.show()\n",
        "\n",
        "# visualization\n",
        "x_range=range(len(y_test))\n",
        "plt.plot(x_range,y_test[x_range], color='red')\n",
        "plt.plot(x_range,pred[x_range], color='blue')\n",
        "plt.legend(['True prices','Predicted prices'], loc='best')\n",
        "plt.grid()\n",
        "plt.show()\n",
        "\n",
        "# visualizate some section\n",
        "x_range=range(50,64)\n",
        "plt.plot(x_range,y_test[x_range], color='red')\n",
        "plt.plot(x_range,pred[x_range], color='blue')\n",
        "plt.legend(['True prices','Predicted prices'], loc='best')\n",
        "plt.grid()\n",
        "plt.show()"
      ]
    }
  ]
}